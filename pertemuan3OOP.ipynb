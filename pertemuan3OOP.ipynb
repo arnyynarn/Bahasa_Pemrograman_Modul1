{
  "nbformat": 4,
  "nbformat_minor": 0,
  "metadata": {
    "colab": {
      "provenance": [],
      "authorship_tag": "ABX9TyO6QIXp5VEmh+ph6EOQDk+a",
      "include_colab_link": true
    },
    "kernelspec": {
      "name": "python3",
      "display_name": "Python 3"
    },
    "language_info": {
      "name": "python"
    }
  },
  "cells": [
    {
      "cell_type": "markdown",
      "metadata": {
        "id": "view-in-github",
        "colab_type": "text"
      },
      "source": [
        "<a href=\"https://colab.research.google.com/github/arnyynarn/Bahasa_Pemrograman_Modul1/blob/main/pertemuan3OOP.ipynb\" target=\"_parent\"><img src=\"https://colab.research.google.com/assets/colab-badge.svg\" alt=\"Open In Colab\"/></a>"
      ]
    },
    {
      "cell_type": "markdown",
      "source": [
        "Akses Modifier (Public, Private, Protected) & Getter-Setter\n"
      ],
      "metadata": {
        "id": "L0tMiGCAhupe"
      }
    },
    {
      "cell_type": "code",
      "execution_count": 7,
      "metadata": {
        "id": "Judk4RM1VQ8L",
        "colab": {
          "base_uri": "https://localhost:8080/"
        },
        "outputId": "618fd84f-23e4-4dde-fd2e-217a8a747ef2"
      },
      "outputs": [
        {
          "output_type": "stream",
          "name": "stdout",
          "text": [
            "Andi\n",
            "Hello, nama saya Andi\n"
          ]
        }
      ],
      "source": [
        "#Public Modifier\n",
        "class Mahasiswa :\n",
        "  def __init__(self, nama):\n",
        "    self.nama = nama\n",
        "\n",
        "  def sayHello(self):\n",
        "    print(\"Hello, nama saya\", self.nama)\n",
        "\n",
        "mahasiswa1 = Mahasiswa(\"Andi\")\n",
        "print(mahasiswa1.nama)\n",
        "mahasiswa1.sayHello()\n"
      ]
    },
    {
      "cell_type": "code",
      "source": [
        "#Protected Modifier\n",
        "class Mahasiswa :\n",
        "  def __init__(self, nama):\n",
        "    self._nama = nama\n",
        "\n",
        "  def _sayHello(self):\n",
        "    print(f\"Hello, nama saya {self._nama}\")\n",
        "\n",
        "mahasiswa1 = Mahasiswa(\"Andi\")\n",
        "print(mahasiswa1._nama)\n",
        "mahasiswa1._sayHello()\n"
      ],
      "metadata": {
        "colab": {
          "base_uri": "https://localhost:8080/"
        },
        "id": "zuamqtN4ic22",
        "outputId": "c21a0ebf-a228-46f2-e739-1fdd0614649b"
      },
      "execution_count": 13,
      "outputs": [
        {
          "output_type": "stream",
          "name": "stdout",
          "text": [
            "Andi\n",
            "Hello, nama saya Andi\n"
          ]
        }
      ]
    },
    {
      "cell_type": "code",
      "source": [
        "#Private Modifier\n",
        "class Mahasiswa :\n",
        "  def __init__(self, nama):\n",
        "    self.__nama = nama\n",
        "\n",
        "  def setNama(self, value):\n",
        "    self.__nama = value\n",
        "\n",
        "  def getNama(self):\n",
        "    return self.__nama\n",
        "\n",
        "  def sayHello(self):\n",
        "    print(f\"Hello, nama saya {self.__nama}\")\n",
        "\n",
        "mahasiswa1 = Mahasiswa(\"Andi\")\n",
        "print(mahasiswa1.getNama())\n",
        "\n",
        "mahasiswa1.setNama(\"Arni\")\n",
        "print(mahasiswa1.getNama())\n",
        "\n",
        "mahasiswa1.sayHello()\n",
        "\n",
        "\n",
        "#"
      ],
      "metadata": {
        "colab": {
          "base_uri": "https://localhost:8080/"
        },
        "id": "_78ZLahRjfpM",
        "outputId": "624f1280-f2c2-452e-c19a-9d69cf418a7d"
      },
      "execution_count": 24,
      "outputs": [
        {
          "output_type": "stream",
          "name": "stdout",
          "text": [
            "Andi\n",
            "Arni\n",
            "Hello, nama saya Arni\n"
          ]
        }
      ]
    },
    {
      "cell_type": "code",
      "source": [
        "#Private Modifier\n",
        "class Mahasiswa :\n",
        "  def __init__(self, nama):\n",
        "    self.__nama=nama\n",
        "\n",
        "  @property\n",
        "  def nama(self):  #Nama Properrti dijadikan nama method\n",
        "    return self.__nama\n",
        "\n",
        "  @nama.setter\n",
        "  def nama(self, value):\n",
        "    self.__nama = value\n",
        "\n",
        "m1 = Mahasiswa(\"Andi\")\n",
        "m1.nama\n",
        "m1.nama = \"Arni\"\n",
        "m1.nama"
      ],
      "metadata": {
        "colab": {
          "base_uri": "https://localhost:8080/",
          "height": 35
        },
        "id": "coKBiXB0nEn1",
        "outputId": "b5638aee-8516-47ba-ae01-0aaf452df87a"
      },
      "execution_count": 42,
      "outputs": [
        {
          "output_type": "execute_result",
          "data": {
            "text/plain": [
              "'Arni'"
            ],
            "application/vnd.google.colaboratory.intrinsic+json": {
              "type": "string"
            }
          },
          "metadata": {},
          "execution_count": 42
        }
      ]
    },
    {
      "cell_type": "code",
      "source": [
        "class AkunBank:\n",
        "  def __init__(self, nomor_rekening, nama, saldo_awal, pin):\n",
        "    self.__nomor_rekening = nomor_rekening\n",
        "    self.__nama = nama\n",
        "    self.__saldo_awal = saldo_awal\n",
        "    self.__pin = pin\n",
        "\n",
        "  @property\n",
        "  def nomor_rekening(self):\n",
        "    return self.__nomor_rekening\n",
        "\n",
        "  @property\n",
        "  def nama(self):\n",
        "    return self.__nama\n",
        "\n",
        "  @property\n",
        "  def saldo_awal(self):\n",
        "    return self.__saldo_awal\n",
        "\n",
        "  @property\n",
        "  def pin(self):\n",
        "    return self.__pin\n",
        "\n",
        "  @nama.setter\n",
        "  def nama(self, value):\n",
        "    self.__nama = value\n",
        "\n",
        "  @saldo_awal.setter\n",
        "  def saldo_awal(self, value):\n",
        "    self.__saldo_awal = value\n",
        "\n",
        "  @pin.setter\n",
        "  def pin(self, value):\n",
        "    self.__pin = value\n",
        "\n",
        "  def cek_saldo(self):\n",
        "    return self.__saldo_awal\n",
        "\n",
        "  def tarik_tunai(self, jumlah):\n",
        "    if jumlah <= self.__saldo_awal:\n",
        "      self.__saldo_awal -= jumlah\n",
        "      return True\n",
        "    else:\n",
        "      return False\n",
        "\n",
        "  def transfer(self, jumlah, rekening_tujuan):\n",
        "    if jumlah <= self.__saldo_awal:\n",
        "      self.__saldo_awal -= jumlah\n",
        "      rekening_tujuan.__saldo_awal += jumlah\n",
        "      return True\n",
        "    else:\n",
        "      return False\n",
        "\n",
        "  def isi_saldo(self, jumlah):\n",
        "    self.__saldo_awal += jumlah\n",
        "\n",
        "  def cek_pin(self, pin):\n",
        "    return pin == self.__pin\n",
        "\n",
        "  def ubah_pin(self, pin_baru):\n",
        "    self.__pin = pin_baru\n",
        "\n",
        "  def tampilkan_info(self):\n",
        "    print(f\"Nomor Rekening: {self.__nomor_rekening}\")\n",
        "    print(f\"Nama: {self.__nama}\")\n",
        "    print(f\"Saldo Awal: {self.__saldo_awal}\")\n",
        "    print(f\"Pin: {self.__pin}\")\n",
        "    print()\n",
        "\n",
        "# Create an instance of the AkunBank class\n",
        "akun1 = AkunBank(\"123456789\", \"Arni Yuniarni\", 1000000, \"1234\")\n",
        "\n",
        "# Call the tampilkan_info method on the instance\n",
        "akun1.tampilkan_info()\n",
        "akun1.cek_saldo()\n",
        "akun1.tarik_tunai(500000)\n",
        "akun1.tampilkan_info()\n",
        "akun1.transfer(200000, akun1)\n",
        "akun1.tampilkan_info()"
      ],
      "metadata": {
        "colab": {
          "base_uri": "https://localhost:8080/"
        },
        "id": "LdYBQigQp7zm",
        "outputId": "33b87615-ad58-491c-e590-be60afe9a772"
      },
      "execution_count": 53,
      "outputs": [
        {
          "output_type": "stream",
          "name": "stdout",
          "text": [
            "Nomor Rekening: 123456789\n",
            "Nama: Arni Yuniarni\n",
            "Saldo Awal: 1000000\n",
            "Pin: 1234\n",
            "\n",
            "Nomor Rekening: 123456789\n",
            "Nama: Arni Yuniarni\n",
            "Saldo Awal: 500000\n",
            "Pin: 1234\n",
            "\n",
            "Nomor Rekening: 123456789\n",
            "Nama: Arni Yuniarni\n",
            "Saldo Awal: 500000\n",
            "Pin: 1234\n",
            "\n"
          ]
        }
      ]
    },
    {
      "cell_type": "code",
      "source": [
        "class AkunBank:\n",
        "  def __init__(self, no_rek, nasabah, saldo_awal, pin):\n",
        "    self.__no_rek = no_rek\n",
        "    self.__nasabah = nasabah\n",
        "    self.__saldo_awal = saldo_awal\n",
        "    self.__pin = pin\n",
        "\n",
        "  @property\n",
        "  def nasabah(self):\n",
        "    return self.__nasabah\n",
        "\n",
        "  @property\n",
        "  def no_rek(self):\n",
        "    return self.__no_rek\n",
        "\n",
        "  @property\n",
        "  def saldo(self):\n",
        "    return self.__saldo_awal"
      ],
      "metadata": {
        "id": "ks7IewbaujjS"
      },
      "execution_count": 78,
      "outputs": []
    },
    {
      "cell_type": "code",
      "source": [
        "nasabah1=AkunBank(\"2121\",\"Arni\",0,\"123\")\n",
        "print(f\"Saldo Nasabah {nasabah1.nasabah} adalah {nasabah1.saldo}\")"
      ],
      "metadata": {
        "colab": {
          "base_uri": "https://localhost:8080/"
        },
        "id": "0CznpI-Kp1iH",
        "outputId": "a4887dc4-6a5b-4e9b-c45c-93e0ddc3fc4a"
      },
      "execution_count": 79,
      "outputs": [
        {
          "output_type": "stream",
          "name": "stdout",
          "text": [
            "Saldo Nasabah Arni adalah 0\n"
          ]
        }
      ]
    }
  ]
}